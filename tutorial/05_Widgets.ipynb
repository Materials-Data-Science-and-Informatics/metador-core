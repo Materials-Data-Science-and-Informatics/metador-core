{
 "cells": [
  {
   "cell_type": "markdown",
   "id": "48cc1550",
   "metadata": {},
   "source": [
    "# Dashboards and Widgets\n"
   ]
  },
  {
   "cell_type": "code",
   "execution_count": null,
   "id": "b45ee678",
   "metadata": {},
   "outputs": [],
   "source": [
    "from pathlib import Path\n",
    "\n",
    "files = Path(\"files\")  # location of test files"
   ]
  },
  {
   "cell_type": "code",
   "execution_count": null,
   "id": "2d1d1b2f",
   "metadata": {},
   "outputs": [],
   "source": [
    "from metador_core.plugins import schemas\n",
    "\n",
    "BibMeta = schemas[\"core.bib\"]\n",
    "DBMeta = schemas[\"core.dashboard\"]\n",
    "ImgMeta = schemas[\"core.imagefile\"]"
   ]
  },
  {
   "cell_type": "code",
   "execution_count": null,
   "id": "d044306c",
   "metadata": {},
   "outputs": [],
   "source": [
    "from metador_core.plugins import harvesters\n",
    "from metador_core.harvester import harvest, metadata_loader, file_harvester_pipeline\n",
    "\n",
    "HrvFile = harvesters[\"core.file.generic\"]\n",
    "HrvImgDim = harvesters[\"core.imagefile.dim\"]\n",
    "\n",
    "ImgMetaLoader = metadata_loader(ImgMeta, use_sidecar=True)\n",
    "image_pipeline = file_harvester_pipeline(HrvFile, HrvImgDim, ImgMetaLoader)"
   ]
  },
  {
   "cell_type": "code",
   "execution_count": null,
   "id": "83e448fe",
   "metadata": {},
   "outputs": [],
   "source": [
    "from metador_core.container import MetadorContainer\n",
    "from metador_core.packer.utils import embed_file\n",
    "\n",
    "with MetadorContainer(\"my-dashboardable-container.h5\", \"w\") as m:\n",
    "    m.meta[\"core.bib\"] = BibMeta.parse_file(files / \"test.bibmeta.yaml\")\n",
    "    \n",
    "    imgmeta = harvest(ImgMeta, image_pipeline(files / \"test.png\"))\n",
    "    n = embed_file(m, \"foo/bar\", files / \"test.png\", metadata=imgmeta)\n",
    "    n.meta[DBMeta] = DBMeta.show(group=1)\n",
    "    \n",
    "    n = embed_file(m, \"pdffile\", files / \"test.pdf\")\n",
    "    n.meta[DBMeta] = DBMeta.show(group=1, priority=10)\n",
    "    \n",
    "    n = embed_file(m, \"jsonfile\", files / \"test.json\")\n",
    "    n.meta[DBMeta] = DBMeta()\n",
    "    \n",
    "    n = embed_file(m, \"mdfile\", files / \"test.md\")\n",
    "    n.meta[DBMeta] = DBMeta()\n",
    "    \n",
    "    n = embed_file(m, \"htmlfile\", files / \"test.html\")\n",
    "    n.meta[DBMeta] = DBMeta.show(\n",
    "        [DBMeta.widget(metador_widget=\"core.file.text.code\", group=2), DBMeta.widget(group=2)]\n",
    "    )"
   ]
  },
  {
   "cell_type": "code",
   "execution_count": null,
   "id": "fe48e043",
   "metadata": {},
   "outputs": [],
   "source": [
    "from metador_core.widget.jupyter import Previewable\n",
    "\n",
    "m = Previewable(MetadorContainer(\"my-dashboardable-container.h5\"))"
   ]
  },
  {
   "cell_type": "code",
   "execution_count": null,
   "id": "7654ef79",
   "metadata": {},
   "outputs": [],
   "source": [
    "from metador_core.plugins import widgets\n",
    "\n",
    "widgets[\"core.file.image\"](m[\"foo/bar\"]).show()"
   ]
  },
  {
   "cell_type": "code",
   "execution_count": null,
   "id": "dd4c8a11",
   "metadata": {},
   "outputs": [],
   "source": [
    "from metador_core.widget.dashboard import Dashboard\n",
    "\n",
    "Dashboard(m).show()"
   ]
  }
 ],
 "metadata": {
  "kernelspec": {
   "display_name": "Python 3 (ipykernel)",
   "language": "python",
   "name": "python3"
  },
  "language_info": {
   "codemirror_mode": {
    "name": "ipython",
    "version": 3
   },
   "file_extension": ".py",
   "mimetype": "text/x-python",
   "name": "python",
   "nbconvert_exporter": "python",
   "pygments_lexer": "ipython3",
   "version": "3.8.10"
  }
 },
 "nbformat": 4,
 "nbformat_minor": 5
}
