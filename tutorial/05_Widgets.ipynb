{
 "cells": [
  {
   "cell_type": "markdown",
   "id": "48cc1550",
   "metadata": {},
   "source": [
    "# Dashboards and Widgets\n"
   ]
  },
  {
   "cell_type": "code",
   "execution_count": 1,
   "id": "b45ee678",
   "metadata": {},
   "outputs": [],
   "source": [
    "from pathlib import Path\n",
    "\n",
    "files = Path(\"files\")  # location of test files"
   ]
  },
  {
   "cell_type": "code",
   "execution_count": 2,
   "id": "2d1d1b2f",
   "metadata": {},
   "outputs": [],
   "source": [
    "from metador_core.plugins import schemas\n",
    "\n",
    "BibMeta = schemas[\"core.bib\"]\n",
    "DBMeta = schemas[\"core.dashboard\"]\n",
    "ImgMeta = schemas[\"core.imagefile\"]"
   ]
  },
  {
   "cell_type": "code",
   "execution_count": 3,
   "id": "d044306c",
   "metadata": {},
   "outputs": [],
   "source": [
    "from metador_core.plugins import harvesters\n",
    "from metador_core.harvester import harvest, metadata_loader, file_harvester_pipeline\n",
    "\n",
    "HrvFile = harvesters[\"core.file.generic\"]\n",
    "HrvImgDim = harvesters[\"core.imagefile.dim\"]\n",
    "\n",
    "ImgMetaLoader = metadata_loader(ImgMeta, use_sidecar=True)\n",
    "image_pipeline = file_harvester_pipeline(HrvFile, HrvImgDim, ImgMetaLoader)"
   ]
  },
  {
   "cell_type": "code",
   "execution_count": 4,
   "id": "83e448fe",
   "metadata": {},
   "outputs": [],
   "source": [
    "from metador_core.container import MetadorContainer\n",
    "from metador_core.packer.utils import embed_file\n",
    "\n",
    "with MetadorContainer(\"my-dashboardable-container.h5\", \"w\") as m:\n",
    "    m.meta[\"core.bib\"] = BibMeta.parse_file(files / \"test.bibmeta.yaml\")\n",
    "    \n",
    "    imgmeta = harvest(ImgMeta, image_pipeline(files / \"test.png\"))\n",
    "    n = embed_file(m, \"foo/bar\", files / \"test.png\", metadata=imgmeta)\n",
    "    n.meta[DBMeta] = DBMeta.show(group=1)\n",
    "    \n",
    "    n = embed_file(m, \"pdffile\", files / \"test.pdf\")\n",
    "    n.meta[DBMeta] = DBMeta.show(group=1, priority=10)\n",
    "    \n",
    "    n = embed_file(m, \"jsonfile\", files / \"test.json\")\n",
    "    n.meta[DBMeta] = DBMeta()\n",
    "    \n",
    "    n = embed_file(m, \"mdfile\", files / \"test.md\")\n",
    "    n.meta[DBMeta] = DBMeta()\n",
    "    \n",
    "    n = embed_file(m, \"htmlfile\", files / \"test.html\")\n",
    "    n.meta[DBMeta] = DBMeta.show(\n",
    "        [DBMeta.widget(metador_widget=\"core.file.text.code\", group=2), DBMeta.widget(group=2)]\n",
    "    )"
   ]
  },
  {
   "cell_type": "code",
   "execution_count": 5,
   "id": "fe48e043",
   "metadata": {},
   "outputs": [
    {
     "ename": "AttributeError",
     "evalue": "'str' object has no attribute 'group'",
     "output_type": "error",
     "traceback": [
      "\u001b[0;31m---------------------------------------------------------------------------\u001b[0m",
      "\u001b[0;31mAttributeError\u001b[0m                            Traceback (most recent call last)",
      "Input \u001b[0;32mIn [5]\u001b[0m, in \u001b[0;36m<cell line: 1>\u001b[0;34m()\u001b[0m\n\u001b[0;32m----> 1\u001b[0m \u001b[38;5;28;01mfrom\u001b[39;00m \u001b[38;5;21;01mmetador_core\u001b[39;00m\u001b[38;5;21;01m.\u001b[39;00m\u001b[38;5;21;01mwidget\u001b[39;00m\u001b[38;5;21;01m.\u001b[39;00m\u001b[38;5;21;01mjupyter\u001b[39;00m \u001b[38;5;28;01mimport\u001b[39;00m Previewable\n\u001b[1;32m      3\u001b[0m m \u001b[38;5;241m=\u001b[39m Previewable(MetadorContainer(\u001b[38;5;124m\"\u001b[39m\u001b[38;5;124mmy-dashboardable-container.h5\u001b[39m\u001b[38;5;124m\"\u001b[39m))\n",
      "File \u001b[0;32m/local/home/a.pirogov/projects/ias9/metador-core/metador_core/widget/jupyter/__init__.py:6\u001b[0m, in \u001b[0;36m<module>\u001b[0;34m\u001b[0m\n\u001b[1;32m      3\u001b[0m \u001b[38;5;28;01mimport\u001b[39;00m \u001b[38;5;21;01mwrapt\u001b[39;00m\n\u001b[1;32m      5\u001b[0m \u001b[38;5;28;01mfrom\u001b[39;00m \u001b[38;5;21;01m.\u001b[39;00m\u001b[38;5;21;01m.\u001b[39;00m\u001b[38;5;21;01m.\u001b[39;00m\u001b[38;5;21;01mcontainer\u001b[39;00m \u001b[38;5;28;01mimport\u001b[39;00m MetadorContainer\n\u001b[0;32m----> 6\u001b[0m \u001b[38;5;28;01mfrom\u001b[39;00m \u001b[38;5;21;01m.\u001b[39;00m \u001b[38;5;28;01mimport\u001b[39;00m standalone\n\u001b[1;32m      9\u001b[0m \u001b[38;5;28;01mclass\u001b[39;00m \u001b[38;5;21;01mPreviewable\u001b[39;00m(wrapt\u001b[38;5;241m.\u001b[39mObjectProxy):\n\u001b[1;32m     10\u001b[0m     \u001b[38;5;124;03m\"\"\"Wrapper to be used around MetadorContainer inside Jupyter.\u001b[39;00m\n\u001b[1;32m     11\u001b[0m \n\u001b[1;32m     12\u001b[0m \u001b[38;5;124;03m    Will ensure that widgets can work in the notebook.\u001b[39;00m\n\u001b[1;32m     13\u001b[0m \u001b[38;5;124;03m    \"\"\"\u001b[39;00m\n",
      "File \u001b[0;32m/local/home/a.pirogov/projects/ias9/metador-core/metador_core/widget/jupyter/standalone.py:49\u001b[0m, in \u001b[0;36m<module>\u001b[0;34m\u001b[0m\n\u001b[1;32m     46\u001b[0m port: \u001b[38;5;28mint\u001b[39m \u001b[38;5;241m=\u001b[39m \u001b[38;5;241m-\u001b[39m\u001b[38;5;241m1\u001b[39m\n\u001b[1;32m     48\u001b[0m _known_containers: SimpleContainerProvider[UUID] \u001b[38;5;241m=\u001b[39m SimpleContainerProvider[UUID]()\n\u001b[0;32m---> 49\u001b[0m _widget_server: WidgetServer \u001b[38;5;241m=\u001b[39m \u001b[43mWidgetServer\u001b[49m\u001b[43m(\u001b[49m\u001b[43m_known_containers\u001b[49m\u001b[43m)\u001b[49m\n\u001b[1;32m     52\u001b[0m \u001b[38;5;28;01mdef\u001b[39;00m \u001b[38;5;21mwidget_server\u001b[39m() \u001b[38;5;241m-\u001b[39m\u001b[38;5;241m>\u001b[39m WidgetServer:\n\u001b[1;32m     53\u001b[0m     \u001b[38;5;28;01mreturn\u001b[39;00m _widget_server\n",
      "File \u001b[0;32m/local/home/a.pirogov/projects/ias9/metador-core/metador_core/widget/server/__init__.py:42\u001b[0m, in \u001b[0;36mWidgetServer.__init__\u001b[0;34m(self, containers, populate)\u001b[0m\n\u001b[1;32m     40\u001b[0m \u001b[38;5;28mself\u001b[39m\u001b[38;5;241m.\u001b[39m_reg_dashboards: Dict[\u001b[38;5;28mstr\u001b[39m, \u001b[38;5;28mstr\u001b[39m] \u001b[38;5;241m=\u001b[39m {}\n\u001b[1;32m     41\u001b[0m \u001b[38;5;28;01mif\u001b[39;00m populate:\n\u001b[0;32m---> 42\u001b[0m     \u001b[38;5;28;43mself\u001b[39;49m\u001b[38;5;241;43m.\u001b[39;49m\u001b[43mregister_installed\u001b[49m\u001b[43m(\u001b[49m\u001b[43m)\u001b[49m\n\u001b[1;32m     44\u001b[0m \u001b[38;5;66;03m# these are to be set after launching the server threads\u001b[39;00m\n\u001b[1;32m     45\u001b[0m \u001b[38;5;28mself\u001b[39m\u001b[38;5;241m.\u001b[39m_flask_endpoint \u001b[38;5;241m=\u001b[39m \u001b[38;5;124m\"\u001b[39m\u001b[38;5;124m\"\u001b[39m\n",
      "File \u001b[0;32m/local/home/a.pirogov/projects/ias9/metador-core/metador_core/widget/server/__init__.py:102\u001b[0m, in \u001b[0;36mWidgetServer.register_installed\u001b[0;34m(self)\u001b[0m\n\u001b[1;32m     99\u001b[0m \u001b[38;5;28;01mfrom\u001b[39;00m \u001b[38;5;21;01m.\u001b[39;00m\u001b[38;5;21;01m.\u001b[39;00m\u001b[38;5;21;01mdashboard\u001b[39;00m \u001b[38;5;28;01mimport\u001b[39;00m Dashboard\n\u001b[1;32m    101\u001b[0m \u001b[38;5;28mself\u001b[39m\u001b[38;5;241m.\u001b[39mregister_dashboard(\u001b[38;5;124m\"\u001b[39m\u001b[38;5;124mgeneric\u001b[39m\u001b[38;5;124m\"\u001b[39m, \u001b[38;5;28mself\u001b[39m\u001b[38;5;241m.\u001b[39mmake_bokeh_app(Dashboard))\n\u001b[0;32m--> 102\u001b[0m \u001b[38;5;28;01mfor\u001b[39;00m wclass \u001b[38;5;129;01min\u001b[39;00m widgets\u001b[38;5;241m.\u001b[39mvalues():\n\u001b[1;32m    103\u001b[0m     \u001b[38;5;28mself\u001b[39m\u001b[38;5;241m.\u001b[39mregister_widget(\n\u001b[1;32m    104\u001b[0m         wclass\u001b[38;5;241m.\u001b[39mPlugin\u001b[38;5;241m.\u001b[39mplugin_string(), \u001b[38;5;28mself\u001b[39m\u001b[38;5;241m.\u001b[39mmake_bokeh_app(wclass)\n\u001b[1;32m    105\u001b[0m     )\n",
      "File \u001b[0;32m/local/home/a.pirogov/projects/ias9/metador-core/metador_core/plugin/interface.py:270\u001b[0m, in \u001b[0;36mPluginGroup.__getitem__\u001b[0;34m(self, key)\u001b[0m\n\u001b[1;32m    268\u001b[0m \u001b[38;5;28;01mif\u001b[39;00m key \u001b[38;5;129;01mnot\u001b[39;00m \u001b[38;5;129;01min\u001b[39;00m \u001b[38;5;28mself\u001b[39m:\n\u001b[1;32m    269\u001b[0m     \u001b[38;5;28;01mraise\u001b[39;00m \u001b[38;5;167;01mKeyError\u001b[39;00m(\u001b[38;5;124mf\u001b[39m\u001b[38;5;124m\"\u001b[39m\u001b[38;5;132;01m{\u001b[39;00m\u001b[38;5;28mself\u001b[39m\u001b[38;5;241m.\u001b[39mname\u001b[38;5;132;01m}\u001b[39;00m\u001b[38;5;124m not found: \u001b[39m\u001b[38;5;132;01m{\u001b[39;00mkey\u001b[38;5;132;01m}\u001b[39;00m\u001b[38;5;124m\"\u001b[39m)\n\u001b[0;32m--> 270\u001b[0m \u001b[38;5;28;01mreturn\u001b[39;00m \u001b[38;5;28;43mself\u001b[39;49m\u001b[38;5;241;43m.\u001b[39;49m\u001b[43mget\u001b[49m\u001b[43m(\u001b[49m\u001b[43mkey\u001b[49m\u001b[43m)\u001b[49m\n",
      "File \u001b[0;32m/local/home/a.pirogov/projects/ias9/metador-core/metador_core/plugin/interface.py:328\u001b[0m, in \u001b[0;36mPluginGroup.get\u001b[0;34m(self, key, version)\u001b[0m\n\u001b[1;32m    325\u001b[0m     version \u001b[38;5;241m=\u001b[39m version \u001b[38;5;129;01mor\u001b[39;00m key\u001b[38;5;241m.\u001b[39mPlugin\u001b[38;5;241m.\u001b[39mversion  \u001b[38;5;66;03m# use if no version passed\u001b[39;00m\n\u001b[1;32m    327\u001b[0m \u001b[38;5;66;03m# retrieve compatible plugin\u001b[39;00m\n\u001b[0;32m--> 328\u001b[0m ret \u001b[38;5;241m=\u001b[39m \u001b[38;5;28;43mself\u001b[39;49m\u001b[38;5;241;43m.\u001b[39;49m\u001b[43m_get_unsafe\u001b[49m\u001b[43m(\u001b[49m\u001b[43mkey_\u001b[49m\u001b[43m,\u001b[49m\u001b[43m \u001b[49m\u001b[43mversion\u001b[49m\u001b[43m)\u001b[49m\n\u001b[1;32m    329\u001b[0m \u001b[38;5;28;01mif\u001b[39;00m ret \u001b[38;5;129;01mis\u001b[39;00m \u001b[38;5;129;01mnot\u001b[39;00m \u001b[38;5;28;01mNone\u001b[39;00m \u001b[38;5;129;01mand\u001b[39;00m version \u001b[38;5;129;01mis\u001b[39;00m \u001b[38;5;28;01mNone\u001b[39;00m:\n\u001b[1;32m    330\u001b[0m     \u001b[38;5;66;03m# no version constraint was passed or inferred -> mark it\u001b[39;00m\n\u001b[1;32m    331\u001b[0m     ret \u001b[38;5;241m=\u001b[39m UndefVersion\u001b[38;5;241m.\u001b[39m_mark_class(ret)\n",
      "File \u001b[0;32m/local/home/a.pirogov/projects/ias9/metador-core/metador_core/plugin/interface.py:296\u001b[0m, in \u001b[0;36mPluginGroup._get_unsafe\u001b[0;34m(self, p_name, version)\u001b[0m\n\u001b[1;32m    289\u001b[0m \u001b[38;5;124;03m\"\"\"Return most recent compatible version of given plugin name, without safety rails.\u001b[39;00m\n\u001b[1;32m    290\u001b[0m \n\u001b[1;32m    291\u001b[0m \u001b[38;5;124;03mRaises KeyError if no (compatible) schema found.\u001b[39;00m\n\u001b[1;32m    292\u001b[0m \n\u001b[1;32m    293\u001b[0m \u001b[38;5;124;03mFor internal use only!\u001b[39;00m\n\u001b[1;32m    294\u001b[0m \u001b[38;5;124;03m\"\"\"\u001b[39;00m\n\u001b[1;32m    295\u001b[0m \u001b[38;5;28;01mif\u001b[39;00m ref \u001b[38;5;241m:=\u001b[39m \u001b[38;5;28mself\u001b[39m\u001b[38;5;241m.\u001b[39mresolve(p_name, version):\n\u001b[0;32m--> 296\u001b[0m     \u001b[38;5;28;43mself\u001b[39;49m\u001b[38;5;241;43m.\u001b[39;49m\u001b[43m_ensure_is_loaded\u001b[49m\u001b[43m(\u001b[49m\u001b[43mref\u001b[49m\u001b[43m)\u001b[49m\n\u001b[1;32m    297\u001b[0m     \u001b[38;5;28;01mreturn\u001b[39;00m \u001b[38;5;28mself\u001b[39m\u001b[38;5;241m.\u001b[39m_LOADED_PLUGINS[ref]\n\u001b[1;32m    298\u001b[0m \u001b[38;5;28;01melse\u001b[39;00m:\n",
      "File \u001b[0;32m/local/home/a.pirogov/projects/ias9/metador-core/metador_core/plugin/interface.py:350\u001b[0m, in \u001b[0;36mPluginGroup._ensure_is_loaded\u001b[0;34m(self, ref)\u001b[0m\n\u001b[1;32m    347\u001b[0m ret \u001b[38;5;241m=\u001b[39m \u001b[38;5;28mself\u001b[39m\u001b[38;5;241m.\u001b[39m_ENTRY_POINTS[ep_name]\u001b[38;5;241m.\u001b[39mload()\n\u001b[1;32m    348\u001b[0m \u001b[38;5;28mself\u001b[39m\u001b[38;5;241m.\u001b[39m_LOADED_PLUGINS[ref] \u001b[38;5;241m=\u001b[39m ret\n\u001b[0;32m--> 350\u001b[0m \u001b[38;5;28;43mself\u001b[39;49m\u001b[38;5;241;43m.\u001b[39;49m\u001b[43m_load_plugin\u001b[49m\u001b[43m(\u001b[49m\u001b[43mep_name\u001b[49m\u001b[43m,\u001b[49m\u001b[43m \u001b[49m\u001b[43mret\u001b[49m\u001b[43m)\u001b[49m\n",
      "File \u001b[0;32m/local/home/a.pirogov/projects/ias9/metador-core/metador_core/plugin/interface.py:382\u001b[0m, in \u001b[0;36mPluginGroup._load_plugin\u001b[0;34m(self, ep_name, plugin)\u001b[0m\n\u001b[1;32m    380\u001b[0m     dep_grp \u001b[38;5;241m=\u001b[39m plugingroups[dep_grp]\n\u001b[1;32m    381\u001b[0m     \u001b[38;5;66;03m# print(\"check dep\", depgroup, depname)\u001b[39;00m\n\u001b[0;32m--> 382\u001b[0m     \u001b[43mdep_grp\u001b[49m\u001b[38;5;241;43m.\u001b[39;49m\u001b[43m_ensure_is_loaded\u001b[49m\u001b[43m(\u001b[49m\u001b[43mdep_ref\u001b[49m\u001b[43m)\u001b[49m\n\u001b[1;32m    384\u001b[0m \u001b[38;5;28mself\u001b[39m\u001b[38;5;241m.\u001b[39minit_plugin(plugin)\n",
      "File \u001b[0;32m/local/home/a.pirogov/projects/ias9/metador-core/metador_core/plugin/interface.py:342\u001b[0m, in \u001b[0;36mPluginGroup._ensure_is_loaded\u001b[0;34m(self, ref)\u001b[0m\n\u001b[1;32m    340\u001b[0m \u001b[38;5;28;01mdef\u001b[39;00m \u001b[38;5;21m_ensure_is_loaded\u001b[39m(\u001b[38;5;28mself\u001b[39m, ref: AnyPluginRef):\n\u001b[1;32m    341\u001b[0m     \u001b[38;5;124;03m\"\"\"Load plugin from entrypoint, if it is not loaded yet.\"\"\"\u001b[39;00m\n\u001b[0;32m--> 342\u001b[0m     \u001b[38;5;28;01massert\u001b[39;00m \u001b[43mref\u001b[49m\u001b[38;5;241;43m.\u001b[39;49m\u001b[43mgroup\u001b[49m \u001b[38;5;241m==\u001b[39m \u001b[38;5;28mself\u001b[39m\u001b[38;5;241m.\u001b[39mname\n\u001b[1;32m    343\u001b[0m     \u001b[38;5;28;01mif\u001b[39;00m ref \u001b[38;5;129;01min\u001b[39;00m \u001b[38;5;28mself\u001b[39m\u001b[38;5;241m.\u001b[39m_LOADED_PLUGINS:\n\u001b[1;32m    344\u001b[0m         \u001b[38;5;28;01mreturn\u001b[39;00m  \u001b[38;5;66;03m# already loaded, all good\u001b[39;00m\n",
      "\u001b[0;31mAttributeError\u001b[0m: 'str' object has no attribute 'group'"
     ]
    }
   ],
   "source": [
    "from metador_core.widget.jupyter import Previewable\n",
    "\n",
    "m = Previewable(MetadorContainer(\"my-dashboardable-container.h5\"))"
   ]
  },
  {
   "cell_type": "code",
   "execution_count": null,
   "id": "7654ef79",
   "metadata": {},
   "outputs": [],
   "source": [
    "from metador_core.plugins import widgets\n",
    "\n",
    "widgets[\"core.file.image\"](m[\"foo/bar\"]).show()"
   ]
  },
  {
   "cell_type": "code",
   "execution_count": null,
   "id": "dd4c8a11",
   "metadata": {},
   "outputs": [],
   "source": [
    "from metador_core.widget.dashboard import Dashboard\n",
    "\n",
    "Dashboard(m).show()"
   ]
  }
 ],
 "metadata": {
  "kernelspec": {
   "display_name": "Python 3 (ipykernel)",
   "language": "python",
   "name": "python3"
  },
  "language_info": {
   "codemirror_mode": {
    "name": "ipython",
    "version": 3
   },
   "file_extension": ".py",
   "mimetype": "text/x-python",
   "name": "python",
   "nbconvert_exporter": "python",
   "pygments_lexer": "ipython3",
   "version": "3.8.10"
  }
 },
 "nbformat": 4,
 "nbformat_minor": 5
}
