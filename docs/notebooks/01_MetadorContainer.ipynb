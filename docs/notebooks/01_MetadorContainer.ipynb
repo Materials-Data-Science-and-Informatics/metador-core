{
 "cells": [
  {
   "cell_type": "code",
   "execution_count": 1,
   "id": "c918a090",
   "metadata": {},
   "outputs": [],
   "source": [
    "# some imports we will need later\n",
    "from urllib.request import urlopen\n",
    "import hashlib\n",
    "import IPython.display as jupyter\n",
    "import pydantic\n",
    "import h5py\n",
    "# --------------------------------"
   ]
  },
  {
   "cell_type": "markdown",
   "id": "b56213a0",
   "metadata": {},
   "source": [
    "## Using MetadorContainer to manage Metadata in HDF5 files\n",
    "\n",
    "This tutorial is intended for people who already have a basic idea of what Metador is and the value it can provide. Probably now you simply want to jump right in and get started as quickly as possible. These lessons will guide you through the main features and interfaces of the Metador framework step by step and will explain how to perform common tasks which are needed to implement a new use-case or connect a scientific domain to the Metador ecosystem.\n",
    "\n",
    "**Learning Goals:**\n",
    "\n",
    "* Understand the main features provided by the `MetadorContainer` interface\n",
    "* Learn to use basic metadata schemas in order to attach metadata objects to data in a container\n",
    "* Learn to discover and access metadata stored in a possibly unknown container\n",
    "\n",
    "### Introduction\n",
    "\n",
    "Making very domain-specific and heterogeneaus research datasets more [FAIR](https://en.wikipedia.org/wiki/FAIR_data) is hard. The goal of the Metador platform is to support standardization efforts of domain-specific research data and metadata and make reaping the benefits of these efforts as easy as possible.\n",
    "\n",
    "As in most domains high-volume scientific data is numerical, Metador containers are built on top of the well-established and mature [HDF5 format](https://en.wikipedia.org/wiki/Hierarchical_Data_Format), which is optimized for this kind of data.\n",
    "Thus, **Metador is essentially built around HDF5 archives of research data where metadata is organized in a certain way**, so that various components of the Metador framework are able to make sense of your data and provide features based on that information. Luckily, you don't need to know most of the technical details to create valid Metador containers with rich metadata - you just have to think about your metadata needs, Metador will do the bookkeeping behind the scenes.\n",
    "\n",
    "In fact, if you have used the `h5py` library in Python to archive your data, then you already know almost everything you need to know to create Metador containers. If you have never used `h5py`, please [familiarize yourself with h5py](https://docs.h5py.org/en/latest/quick.html#quick) and come back later, when you have a working understanding of `h5py.File`, `h5py.Group`, `h5py.Dataset` and how to use them to store and access data in HDF5 files.\n",
    "\n",
    "Now, assuming that you are familiar with `h5py`, you can think of a Metador container as a special `h5py.File`. Only instead of storing simple key-value pairs as \"metadata\" using `.attrs`, you are enabled to add rich, complex, structured metadata through a new property of `Dataset`s and `Group`s, which is called `.meta`. Note that you still *can* use `.attrs`, if you need to, but the Metador framework will completely ignore them. When you work with Metador containers, it is best to consider `.attrs` as a legacy feature that is to be avoided.\n",
    "\n",
    "<div class=\"alert alert-block alert-info\">\n",
    "    <b>NOTE:</b> As metadata can be attached to both <tt>Group</tt>s and <tt>Dataset</tt>s, for the sake of brevity we refer to both of these simply as <tt>Node</tt>s of the container.\n",
    "</div>\n",
    "\n",
    "### Creating or Opening a Container\n",
    "\n",
    "To work with Metador containers, you simply can use `MetadorContainer` instead of `h5py.File` whenever you create or open an HDF file.\n",
    "\n",
    "On the first sight, you will notice that a `MetadorContainer` seems to behave like a normal `h5py.File`:"
   ]
  },
  {
   "cell_type": "code",
   "execution_count": 2,
   "id": "f601f55c",
   "metadata": {},
   "outputs": [
    {
     "name": "stdout",
     "output_type": "stream",
     "text": [
      "Contents:\n",
      "group\n",
      "group/list\n",
      "---\n",
      "<HDF5 dataset \"list\": shape (4,), type \"<i8\">\n",
      "The answer is: 42\n"
     ]
    }
   ],
   "source": [
    "from metador_core.container import MetadorContainer\n",
    "\n",
    "# store the name of our container (we'll keep working with it)\n",
    "CONTAINER_NAME: str = \"my_first_container.h5\"\n",
    "\n",
    "# access a container by immediately wrapping the freshly created h5py.File\n",
    "with MetadorContainer(CONTAINER_NAME, \"w\") as mc:\n",
    "    # store something\n",
    "    mc[\"group/list\"] = [9, 8, 7, 42]\n",
    "    # list contents of container\n",
    "    print(\"Contents:\")\n",
    "    mc.visit(print)\n",
    "    print(\"---\")\n",
    "\n",
    "    # access the new dataset\n",
    "    my_list = mc[\"group/list\"]\n",
    "    print(my_list)\n",
    "\n",
    "    # index into it\n",
    "    print(\"The answer is:\", my_list[3])"
   ]
  },
  {
   "cell_type": "markdown",
   "id": "46c03045",
   "metadata": {},
   "source": [
    "The Metador container we created *is* an HDF5 file - technically, you *can* open it just as any other regular HDF5 file, or even inspect it with `hdfview`. But you might be surprised to find many objects you did not (knowingly) create - these are the \"technical details\" which `MetadorContainer` hides from you for your own good. Doing changes outside of the provided `MetadorContainer` interface **will** disturb these additional structures, so just do not do it.\n",
    "\n",
    "<div class=\"alert alert-block alert-danger\">\n",
    "    <b>IMPORTANT:</b> <b>Never</b> open the container as <tt>h5py.File</tt> directly! \n",
    "    <b>Always</b> use your Metador containers with <tt>MetadorContainer</tt>, or you risk ending up with broken containers!\n",
    "</div>\n",
    "\n",
    "Also, to give some more general advice to save you from trouble down the line - just as with any kind of resource, you should use the special `with` notation to ensure that the file is properly closed when you are done with it or some exception happens. If you do not use `with`, you are responsible for calling `close()` yourself, and most likely will run into annoying issues that waste your valuable time.\n",
    "\n",
    "<div class=\"alert alert-block alert-warning\">\n",
    "    <b>IMPORTANT:</b> Whenever possible, <b>use <tt>with</tt> when accessing containers</b> and avoid using the same container object in multiple Jupyter cells!\n",
    " </div>"
   ]
  },
  {
   "cell_type": "markdown",
   "id": "9a002bd0",
   "metadata": {},
   "source": [
    "### Baby's First Metadata: Plugins and Schemas\n",
    "\n",
    "In contrast to other systems that allow you to attach arbitrary key-value pairs as \"metadata\" and call that \"being generic\", Metador provides a generic metadata system that still prioritizes **standards, structure and correctness**.\n",
    "Therefore, all metadata must we valid according to some known **metadata schema**.\n",
    "These schemas are used for automatic validation, i.e. checking that the metadata has the right shape, data types and seems plausible. You simply cannot attach invalid metadata to container nodes.\n",
    "The requirement to have schemas for all metadata is undeniably additional work, but *it is work that pays off - we promise!*\n",
    "\n",
    "As with any kind of standard, **the value of a schema is proportional to the number of its users**.\n",
    "In order to minimize the required extra work and at the same time maximize its value, \n",
    "Metador is designed as an extensible and open framework that encourages the sharing and reuse of various elements, including schemas.  For very general kinds of data, Metador provides metadata schemas that can and should be used or extended. For your domain-specific needs, you will first need to understand your metadata, and then formalize this understanding by using, extending or creating a metadata schema **plugin** (this will be the topic of a different lesson). In this lesson, we will only use the default schemas that are always available to you.\n",
    "\n",
    "#### Accessing Metador Plugin Groups and Plugins\n",
    "\n",
    "All installed plugins, including all schemas that you can use in your current Python environment, can be accessed through the Metador plugin system living in `metador_core.plugins`. You can list all different kinds of plugins that are available like this:"
   ]
  },
  {
   "cell_type": "code",
   "execution_count": 3,
   "id": "2a1e3a12",
   "metadata": {},
   "outputs": [
    {
     "name": "stdout",
     "output_type": "stream",
     "text": [
      "Available 'plugingroup' plugins:\n",
      "\t'harvester' (0.1.0)\n",
      "\t'packer' (0.1.0)\n",
      "\t'schema' (0.1.0)\n",
      "\t'widget' (0.1.0)\n",
      "\t'plugingroup' (0.1.0)\n"
     ]
    }
   ],
   "source": [
    "from metador_core.plugins import plugingroups\n",
    "print(plugingroups)"
   ]
  },
  {
   "cell_type": "markdown",
   "id": "0f954543",
   "metadata": {},
   "source": [
    "All the individual plugin groups can be imported individually, e.g. to get quick access to schemas, you can simply import and list them like this:"
   ]
  },
  {
   "cell_type": "code",
   "execution_count": 4,
   "id": "ae5b8315",
   "metadata": {},
   "outputs": [
    {
     "name": "stdout",
     "output_type": "stream",
     "text": [
      "Available 'schema' plugins:\n",
      "\t'core.bib' (0.1.0)\n",
      "\t'core.dashboard' (0.1.0)\n",
      "\t'core.dir' (0.1.0)\n",
      "\t'core.file' (0.1.0)\n",
      "\t'core.imagefile' (0.1.0)\n",
      "\t'core.packerinfo' (0.1.0)\n",
      "\t'core.table' (0.1.0)\n"
     ]
    }
   ],
   "source": [
    "from metador_core.plugins import schemas\n",
    "print(schemas)"
   ]
  },
  {
   "cell_type": "markdown",
   "id": "0e71006b",
   "metadata": {},
   "source": [
    "#### Accessing Available Metadata Schemas\n",
    "\n",
    "A proper scientific dataset should, at the very least, provide some bibliographic metadata - after all, you want to be credited for it, and should credit the shoulders you are standing on.\n",
    "Often, such metadata is requested during the submission into a public repository and is stored \"outside\"\n",
    "of the published data. Metador is a **dataset-centric** system that encourages the creation of archives which are **self-describing and self-contained**. Metadata explaining the contents should be stored alongside the data\n",
    "and be readily available to anyone who gets a hold of a copy of the container, even if the repository is not available anymore 50 years from now.\n",
    "\n",
    "First we need to load the default schema plugin for bibliographic metadata. If you simply want to get any version, you can access the group like a dict:"
   ]
  },
  {
   "cell_type": "code",
   "execution_count": 5,
   "id": "3988998c",
   "metadata": {},
   "outputs": [
    {
     "name": "stdout",
     "output_type": "stream",
     "text": [
      "{\n",
      "  \"group\": \"schema\",\n",
      "  \"name\": \"core.bib\",\n",
      "  \"version\": \"0.1.0\"\n",
      "}\n"
     ]
    }
   ],
   "source": [
    "# following line roughly corresponds to the pseudo-Python statement:\n",
    "#     from schemas import 'core.bib' as BibMeta\n",
    "BibMeta = schemas[\"core.bib\"]\n",
    "\n",
    "# we can show some plugin info, including the version:\n",
    "print(BibMeta.Plugin)"
   ]
  },
  {
   "cell_type": "markdown",
   "id": "1db41a8c",
   "metadata": {},
   "source": [
    "If you know what version you need and expect, you should access it using `get` and pass an expected version. Then Metador will also check whether the installed version is compatible:"
   ]
  },
  {
   "cell_type": "code",
   "execution_count": 6,
   "id": "0efdaaaf",
   "metadata": {},
   "outputs": [],
   "source": [
    "BibMeta = schemas.get(\"core.bib\", (0, 0, 1)) # ok\n",
    "\n",
    "try: # this will fail\n",
    "    SpecificBibMetaVersion = schemas.get(\"core.bib\", (2,3,4))\n",
    "except KeyError as e:\n",
    "    print(e)"
   ]
  },
  {
   "cell_type": "markdown",
   "id": "9721f2f0",
   "metadata": {},
   "source": [
    "#### Creating a metadata object by instantiating a schema\n",
    "Now let's use the schema we loaded to add some bibliographic information to our container!"
   ]
  },
  {
   "cell_type": "code",
   "execution_count": 7,
   "id": "dbb5ca58",
   "metadata": {},
   "outputs": [
    {
     "name": "stdout",
     "output_type": "stream",
     "text": [
      "4 validation errors for BibMeta\n",
      "abstract\n",
      "  field required (type=value_error.missing)\n",
      "author\n",
      "  field required (type=value_error.missing)\n",
      "dateCreated\n",
      "  field required (type=value_error.missing)\n",
      "creator\n",
      "  field required (type=value_error.missing)\n"
     ]
    }
   ],
   "source": [
    "try:\n",
    "    # create bibliographic metadata object\n",
    "    my_bibmeta = BibMeta(name=\"Title for my container\")  # <- this will fail\n",
    "    \n",
    "except pydantic.ValidationError as e:\n",
    "    print(e)  # see what went wrong"
   ]
  },
  {
   "cell_type": "markdown",
   "id": "f45fc253",
   "metadata": {},
   "source": [
    "You can see that the schema complains, because we did not provide all the required information. Let us try again:"
   ]
  },
  {
   "cell_type": "code",
   "execution_count": 8,
   "id": "3190bc91",
   "metadata": {},
   "outputs": [
    {
     "name": "stdout",
     "output_type": "stream",
     "text": [
      "{\n",
      "  \"name\": \"Title for my container\",\n",
      "  \"@context\": \"https://w3id.org/ro/crate/1.1/context\",\n",
      "  \"@type\": \"Dataset\",\n",
      "  \"abstract\": \"This is my first Metador-compliant container\",\n",
      "  \"author\": [\n",
      "    {\n",
      "      \"@id\": \"https://orcid.org/0000-0002-1825-0097\",\n",
      "      \"name\": \"Josiah Carberry\",\n",
      "      \"@context\": \"https://w3id.org/ro/crate/1.1/context\",\n",
      "      \"@type\": \"Person\",\n",
      "      \"givenName\": \"Josiah\",\n",
      "      \"familyName\": \"Carberry\"\n",
      "    }\n",
      "  ],\n",
      "  \"dateCreated\": \"2023-02-08T11:14:03.730201\",\n",
      "  \"hasPart\": [],\n",
      "  \"creator\": {\n",
      "    \"@id\": \"https://orcid.org/0000-0002-1825-0097\",\n",
      "    \"name\": \"Josiah Carberry\",\n",
      "    \"@context\": \"https://w3id.org/ro/crate/1.1/context\",\n",
      "    \"@type\": \"Person\",\n",
      "    \"givenName\": \"Josiah\",\n",
      "    \"familyName\": \"Carberry\"\n",
      "  }\n",
      "}\n"
     ]
    }
   ],
   "source": [
    "from datetime import datetime\n",
    "today = datetime.today().isoformat()\n",
    "\n",
    "container_author = {\n",
    "    \"@id\": \"https://orcid.org/0000-0002-1825-0097\",\n",
    "    \"givenName\": \"Josiah\", \"familyName\": \"Carberry\"\n",
    "}\n",
    "\n",
    "my_bibmeta = BibMeta(\n",
    "    name=\"Title for my container\",\n",
    "    abstract=\"This is my first Metador-compliant container\",\n",
    "    author=[container_author],\n",
    "    creator=container_author,\n",
    "    dateCreated=today\n",
    ")\n",
    "print(my_bibmeta)  # look at what we have created"
   ]
  },
  {
   "cell_type": "markdown",
   "id": "136716cc",
   "metadata": {},
   "source": [
    "Metador strives to be compliant with existing metadata standards and provide *semantic* metadata that is backed by existing vocabularies and ontologies, so the generic schemas are aligned with [RO-Crate](https://www.researchobject.org/ro-crate/1.1/). The schema class will  try to understand (i.e., *parse*) your metadata and bring it into standard-compliant form. This is the reason why now you can see more fields that you actually provided - the output is, in fact, valid [**JSON-LD**](https://en.wikipedia.org/wiki/JSON-LD)!\n",
    "\n",
    "We provided the `author` information in a plain old Python `dict`. This is okay - schemas will try to understand your input, if provided in basic JSON-compatible types (i.e. `int`, `float`, `bool`, `list` and `dict`). Nevertheless, it is recommended that you construct more complex metadata objects using the corresponding schema class to profit from validation early on. Otherwise, in the worst case, you will only see problems with your metadata when you try attaching it to a node.\n",
    "\n",
    "<div class=\"alert alert-block alert-info\">\n",
    "    <b>NOTE:</b> Prefer using schema classes over plain dicts when constructing metadata.\n",
    "</div>\n",
    "\n",
    "#### Exploring and Inspecting a Schema\n",
    "\n",
    "But how can you know what kind of data a schema wants you to provide? What if the schema is complicated and nested? How do you know what schemas or classes you need? To answer all these questions, each schema can be inspected through the special `Fields` attribute:"
   ]
  },
  {
   "cell_type": "code",
   "execution_count": 9,
   "id": "8f5aa958",
   "metadata": {},
   "outputs": [
    {
     "data": {
      "text/plain": [
       "author\n",
       "\ttype: List[Person]\n",
       "\torigin: metador_core.schema.common.BibMeta (plugin: core.bib 0.1.0)\n",
       "\tschemas: Person\n",
       "\tdescription:\n",
       "\t\tList of authors (creators of the actual content).\n",
       "\t\n",
       "creator\n",
       "\ttype: Person\n",
       "\torigin: metador_core.schema.common.BibMeta (plugin: core.bib 0.1.0)\n",
       "\tschemas: Person\n",
       "\tdescription:\n",
       "\t\tPerson who created the container.\n",
       "\t\n",
       "name\n",
       "\ttype: <class 'metador_core.schema.types.NonEmptyStr'>\n",
       "\torigin: metador_core.schema.common.BibMeta (plugin: core.bib 0.1.0)\n",
       "\tdescription:\n",
       "\t\tName, title or caption of the entity.\n",
       "\t\n",
       "abstract\n",
       "\ttype: <class 'metador_core.schema.types.NonEmptyStr'>\n",
       "\torigin: metador_core.schema.common.BibMeta (plugin: core.bib 0.1.0)\n",
       "\tdescription:\n",
       "\t\tA short description that summarizes the creative work.\n",
       "\t\n",
       "dateCreated\n",
       "\ttype: typing.Union[datetime.date, datetime.datetime]\n",
       "\torigin: metador_core.schema.common.BibMeta (plugin: core.bib 0.1.0)\n",
       "\t\n",
       "id_\n",
       "\ttype: Annotated[Optional[NonEmptyStr], Field(alias='@id')]\n",
       "\torigin: metador_core.schema.ld.LDSchema\n",
       "\t\n",
       "alternateName\n",
       "\ttype: Optional[List[Text]]\n",
       "\torigin: metador_core.schema.common.schemaorg.Thing\n",
       "\tdescription:\n",
       "\t\tAlternative names of the entity.\n",
       "\t\n",
       "identifier\n",
       "\ttype: Optional[Union[URL, Text]]\n",
       "\torigin: metador_core.schema.common.schemaorg.Thing\n",
       "\tdescription:\n",
       "\t\tArbitrary identifier of the entity.\n",
       "\t\t\n",
       "\t\tPrefer @id if the identifier is web-resolvable, or use more\n",
       "\t\tspecific fields if available.\n",
       "\t\n",
       "url\n",
       "\ttype: Optional[URL]\n",
       "\torigin: metador_core.schema.common.schemaorg.Thing\n",
       "\tdescription:\n",
       "\t\tURL of the entity.\n",
       "\t\n",
       "description\n",
       "\ttype: Optional[Text]\n",
       "\torigin: metador_core.schema.common.schemaorg.Thing\n",
       "\tdescription:\n",
       "\t\tDescription of the entity.\n",
       "\t\n",
       "version\n",
       "\ttype: Optional[Union[NonNegativeInt, Text]]\n",
       "\torigin: metador_core.schema.common.schemaorg.CreativeWork\n",
       "\tdescription:\n",
       "\t\tVersion of this work.\n",
       "\t\t\n",
       "\t\tEither an integer, or a version string, e.g. \"1.0.5\".\n",
       "\t\t\n",
       "\t\tWhen using version strings, follow https://semver.org\n",
       "\t\twhenever applicable.\n",
       "\t\t\n",
       "\t\n",
       "citation\n",
       "\ttype: Optional[Set[Union[LDOrRef[CreativeWork], Text]]]\n",
       "\torigin: metador_core.schema.common.schemaorg.CreativeWork\n",
       "\tschemas: LDIdRef, CreativeWork\n",
       "\tdescription:\n",
       "\t\tCitation or reference to another creative work, e.g.\n",
       "\t\tanother publication, scholarly article, etc.\n",
       "\t\n",
       "keywords\n",
       "\ttype: Optional[Set[Text]]\n",
       "\torigin: metador_core.schema.common.schemaorg.CreativeWork\n",
       "\tdescription:\n",
       "\t\tKeywords or tags to describe this creative work.\n",
       "\t\n",
       "contributor\n",
       "\ttype: Optional[List[LDOrRef[OrgOrPerson]]]\n",
       "\torigin: metador_core.schema.common.schemaorg.CreativeWork\n",
       "\tschemas: Person, LDIdRef, Organization\n",
       "\tdescription:\n",
       "\t\tAdditional people who contributed to the work, e.g.\n",
       "\t\tin research, the people who would be in the acknowledgements\n",
       "\t\tsection of the relevant paper.\n",
       "\t\n",
       "maintainer\n",
       "\ttype: Optional[List[LDOrRef[OrgOrPerson]]]\n",
       "\torigin: metador_core.schema.common.schemaorg.CreativeWork\n",
       "\tschemas: Person, LDIdRef, Organization\n",
       "\t\n",
       "producer\n",
       "\ttype: Optional[List[LDOrRef[OrgOrPerson]]]\n",
       "\torigin: metador_core.schema.common.schemaorg.CreativeWork\n",
       "\tschemas: Person, LDIdRef, Organization\n",
       "\t\n",
       "provider\n",
       "\ttype: Optional[List[LDOrRef[OrgOrPerson]]]\n",
       "\torigin: metador_core.schema.common.schemaorg.CreativeWork\n",
       "\tschemas: Person, LDIdRef, Organization\n",
       "\t\n",
       "publisher\n",
       "\ttype: Optional[List[LDOrRef[OrgOrPerson]]]\n",
       "\torigin: metador_core.schema.common.schemaorg.CreativeWork\n",
       "\tschemas: Person, LDIdRef, Organization\n",
       "\t\n",
       "sponsor\n",
       "\ttype: Optional[List[LDOrRef[OrgOrPerson]]]\n",
       "\torigin: metador_core.schema.common.schemaorg.CreativeWork\n",
       "\tschemas: Person, LDIdRef, Organization\n",
       "\t\n",
       "editor\n",
       "\ttype: Optional[List[LDOrRef[Person]]]\n",
       "\torigin: metador_core.schema.common.schemaorg.CreativeWork\n",
       "\tschemas: Person, LDIdRef\n",
       "\t\n",
       "dateModified\n",
       "\ttype: Optional[DateOrDatetime]\n",
       "\torigin: metador_core.schema.common.schemaorg.CreativeWork\n",
       "\t\n",
       "datePublished\n",
       "\ttype: Optional[DateOrDatetime]\n",
       "\torigin: metador_core.schema.common.schemaorg.CreativeWork\n",
       "\t\n",
       "copyrightHolder\n",
       "\ttype: Optional[LDOrRef[OrgOrPerson]]\n",
       "\torigin: metador_core.schema.common.schemaorg.CreativeWork\n",
       "\tschemas: Person, LDIdRef, Organization\n",
       "\t\n",
       "copyrightYear\n",
       "\ttype: Optional[Int]\n",
       "\torigin: metador_core.schema.common.schemaorg.CreativeWork\n",
       "\t\n",
       "copyrightNotice\n",
       "\ttype: Optional[Text]\n",
       "\torigin: metador_core.schema.common.schemaorg.CreativeWork\n",
       "\t\n",
       "license\n",
       "\ttype: Optional[Union[URL, LDOrRef[CreativeWork]]]\n",
       "\torigin: metador_core.schema.common.schemaorg.CreativeWork\n",
       "\tschemas: LDIdRef, CreativeWork\n",
       "\t\n",
       "about\n",
       "\ttype: Optional[Set[LDOrRef[Thing]]]\n",
       "\torigin: metador_core.schema.common.schemaorg.CreativeWork\n",
       "\tschemas: LDIdRef, Thing\n",
       "\t\n",
       "subjectOf\n",
       "\ttype: Optional[Set[LDOrRef[CreativeWork]]]\n",
       "\torigin: metador_core.schema.common.schemaorg.CreativeWork\n",
       "\tschemas: LDIdRef, CreativeWork\n",
       "\t\n",
       "hasPart\n",
       "\ttype: Set[LDIdRef]\n",
       "\torigin: metador_core.schema.common.rocrate.DirMeta (plugin: core.dir 0.1.0)\n",
       "\tschemas: LDIdRef\n",
       "\tdescription:\n",
       "\t\tReferences to (a subset of) contained files and subdirectories.\n",
       "\t\n",
       "isPartOf\n",
       "\ttype: Optional[Set[Union[URL, LDOrRef[CreativeWork]]]]\n",
       "\torigin: metador_core.schema.common.schemaorg.CreativeWork\n",
       "\tschemas: LDIdRef, CreativeWork\n",
       "\t\n",
       "isBasedOn\n",
       "\ttype: Optional[Set[Union[URL, LDOrRef[CreativeWork]]]]\n",
       "\torigin: metador_core.schema.common.schemaorg.CreativeWork\n",
       "\tschemas: LDIdRef, CreativeWork\n",
       "\t\n",
       "distribution\n",
       "\ttype: Optional[URL]\n",
       "\torigin: metador_core.schema.common.schemaorg.Dataset\n",
       "\tdescription:\n",
       "\t\tDownloadable form of this dataset, at a specific location, in a specific format.\n",
       "\t"
      ]
     },
     "execution_count": 9,
     "metadata": {},
     "output_type": "execute_result"
    }
   ],
   "source": [
    "BibMeta.Fields"
   ]
  },
  {
   "cell_type": "markdown",
   "id": "4205544c",
   "metadata": {},
   "source": [
    "As you can see, the `Fields` interface provides useful information about every field in a schema:\n",
    "\n",
    "* The **type**, which tells you what kind of objects are suitable\n",
    "* The **origin**, telling you in which schema the field was defined\n",
    "* If provided, a **description** of the field (contents of the docstring)\n",
    "* The **schemas** that you can use to construct an object of a suitable type\n",
    "\n",
    "The last point is especially important - not all schemas are registered as plugins, for various reasons: they can be too general, too specific, not meaningful on their own, etc., but be a part of some schema you want or need to use. Through `Fields` you can access *all* schemas that are relevant, even if they are not a plugin.\n",
    "\n",
    "<div class=\"alert alert-block alert-danger\">\n",
    "    <b>IMPORTANT:</b> <b>Never</b> import schema classes directly, <b>always</b> go through <tt>metador_core.plugins.schemas</tt> for installed plugin schemas, and use the <tt>Fields</tt> interface to access nested schemas that are needed for fields. That way, if schemas are relocated for whatever reason, your code will still work!\n",
    "</div>\n",
    "\n",
    "Now let us improve the schema instance construction. Let us first figure out what we can put into the `author` and `creator` fields:"
   ]
  },
  {
   "cell_type": "code",
   "execution_count": 10,
   "id": "e18d4002",
   "metadata": {},
   "outputs": [
    {
     "name": "stdout",
     "output_type": "stream",
     "text": [
      "author\n",
      "\ttype: List[Person]\n",
      "\torigin: metador_core.schema.common.BibMeta (plugin: core.bib 0.1.0)\n",
      "\tschemas: Person\n",
      "\tdescription:\n",
      "\t\tList of authors (creators of the actual content).\n",
      "\t\n",
      "creator\n",
      "\ttype: Person\n",
      "\torigin: metador_core.schema.common.BibMeta (plugin: core.bib 0.1.0)\n",
      "\tschemas: Person\n",
      "\tdescription:\n",
      "\t\tPerson who created the container.\n",
      "\t\n"
     ]
    }
   ],
   "source": [
    "print(BibMeta.Fields.author)\n",
    "print(BibMeta.Fields.creator)"
   ]
  },
  {
   "cell_type": "markdown",
   "id": "611a5555",
   "metadata": {},
   "source": [
    "Now we know that for both fields we need something called `Person`. Let's now get our hands on that `Person` class and see what it wants:"
   ]
  },
  {
   "cell_type": "code",
   "execution_count": 11,
   "id": "90e62394",
   "metadata": {},
   "outputs": [
    {
     "name": "stdout",
     "output_type": "stream",
     "text": [
      "id_\n",
      "\ttype: Annotated[Optional[NonEmptyStr], Field(alias='@id')]\n",
      "\torigin: metador_core.schema.ld.LDSchema\n",
      "\t\n",
      "name\n",
      "\ttype: Optional[Text]\n",
      "\torigin: metador_core.schema.common.schemaorg.Thing\n",
      "\tdescription:\n",
      "\t\tName, title or caption of the entity.\n",
      "\t\n",
      "alternateName\n",
      "\ttype: Optional[List[Text]]\n",
      "\torigin: metador_core.schema.common.schemaorg.Thing\n",
      "\tdescription:\n",
      "\t\tAlternative names of the entity.\n",
      "\t\n",
      "identifier\n",
      "\ttype: Optional[Union[URL, Text]]\n",
      "\torigin: metador_core.schema.common.schemaorg.Thing\n",
      "\tdescription:\n",
      "\t\tArbitrary identifier of the entity.\n",
      "\t\t\n",
      "\t\tPrefer @id if the identifier is web-resolvable, or use more\n",
      "\t\tspecific fields if available.\n",
      "\t\n",
      "url\n",
      "\ttype: Optional[URL]\n",
      "\torigin: metador_core.schema.common.schemaorg.Thing\n",
      "\tdescription:\n",
      "\t\tURL of the entity.\n",
      "\t\n",
      "description\n",
      "\ttype: Optional[Text]\n",
      "\torigin: metador_core.schema.common.schemaorg.Thing\n",
      "\tdescription:\n",
      "\t\tDescription of the entity.\n",
      "\t\n",
      "givenName\n",
      "\ttype: Optional[Text]\n",
      "\torigin: metador_core.schema.common.schemaorg.Person\n",
      "\tdescription:\n",
      "\t\tGiven name, typically the first name of a Person.\n",
      "\t\n",
      "familyName\n",
      "\ttype: Optional[Text]\n",
      "\torigin: metador_core.schema.common.schemaorg.Person\n",
      "\tdescription:\n",
      "\t\tFamily name of a Person.\n",
      "\t\n",
      "additionalName\n",
      "\ttype: Optional[Text]\n",
      "\torigin: metador_core.schema.common.schemaorg.Person\n",
      "\tdescription:\n",
      "\t\tAdditional name for a Person, e.g. for a middle name.\n",
      "\t\n",
      "email\n",
      "\ttype: Optional[Text]\n",
      "\torigin: metador_core.schema.common.schemaorg.Person\n",
      "\tdescription:\n",
      "\t\tE-mail address.\n",
      "\t\n",
      "affiliation\n",
      "\ttype: Optional[LDOrRef[Organization]]\n",
      "\torigin: metador_core.schema.common.schemaorg.Person\n",
      "\tschemas: LDIdRef, Organization\n",
      "\tdescription:\n",
      "\t\tAn organization this person is affiliated with.\n",
      "\t\n"
     ]
    }
   ],
   "source": [
    "Person = BibMeta.Fields.author.schemas.Person\n",
    "\n",
    "print(Person.Fields)"
   ]
  },
  {
   "cell_type": "markdown",
   "id": "2bfff768",
   "metadata": {},
   "source": [
    "While not very likely, still it could happen that schemas used for two fields have the same name, but in fact are different. Let us verify that the `Person` class needed for `author` is the same as for `creator`:"
   ]
  },
  {
   "cell_type": "code",
   "execution_count": 12,
   "id": "bef845be",
   "metadata": {},
   "outputs": [
    {
     "data": {
      "text/plain": [
       "True"
      ]
     },
     "execution_count": 12,
     "metadata": {},
     "output_type": "execute_result"
    }
   ],
   "source": [
    "BibMeta.Fields.author.schemas.Person is BibMeta.Fields.creator.schemas.Person"
   ]
  },
  {
   "cell_type": "markdown",
   "id": "4632a31d",
   "metadata": {},
   "source": [
    "Even if we did not check this upfront, the validation would have catched a possible mistake, should the schemas not be compatible.\n",
    "\n",
    "Now we have all information to recreate our bibliographic metadata using the correct `Person` schema:"
   ]
  },
  {
   "cell_type": "code",
   "execution_count": 13,
   "id": "5ad81a03",
   "metadata": {},
   "outputs": [
    {
     "name": "stdout",
     "output_type": "stream",
     "text": [
      "{\n",
      "  \"name\": \"Title for my container\",\n",
      "  \"@context\": \"https://w3id.org/ro/crate/1.1/context\",\n",
      "  \"@type\": \"Dataset\",\n",
      "  \"abstract\": \"This is my first Metador-compliant container\",\n",
      "  \"author\": [\n",
      "    {\n",
      "      \"@id\": \"https://orcid.org/0000-0002-1825-0097\",\n",
      "      \"name\": \"Josiah Carberry\",\n",
      "      \"@context\": \"https://w3id.org/ro/crate/1.1/context\",\n",
      "      \"@type\": \"Person\",\n",
      "      \"givenName\": \"Josiah\",\n",
      "      \"familyName\": \"Carberry\"\n",
      "    }\n",
      "  ],\n",
      "  \"dateCreated\": \"2023-02-08T11:14:03.730201\",\n",
      "  \"hasPart\": [],\n",
      "  \"creator\": {\n",
      "    \"@id\": \"https://orcid.org/0000-0002-1825-0097\",\n",
      "    \"name\": \"Josiah Carberry\",\n",
      "    \"@context\": \"https://w3id.org/ro/crate/1.1/context\",\n",
      "    \"@type\": \"Person\",\n",
      "    \"givenName\": \"Josiah\",\n",
      "    \"familyName\": \"Carberry\"\n",
      "  }\n",
      "}\n"
     ]
    }
   ],
   "source": [
    "container_author = Person(\n",
    "    id_ = \"https://orcid.org/0000-0002-1825-0097\",\n",
    "    givenName= \"Josiah\", familyName=\"Carberry\"\n",
    ")\n",
    "\n",
    "my_bibmeta = BibMeta(\n",
    "    name=\"Title for my container\",\n",
    "    abstract=\"This is my first Metador-compliant container\",\n",
    "    author=[container_author],\n",
    "    creator=container_author,\n",
    "    dateCreated=today,\n",
    ")\n",
    "print(my_bibmeta.json(indent=2))  # look at what we have created"
   ]
  },
  {
   "cell_type": "markdown",
   "id": "cab74254",
   "metadata": {},
   "source": [
    "After this brief detour about schema access and introspection, let us (finally!) add the bibliographic metadata object we created to the container:"
   ]
  },
  {
   "cell_type": "code",
   "execution_count": 14,
   "id": "336ea20c",
   "metadata": {},
   "outputs": [
    {
     "name": "stdout",
     "output_type": "stream",
     "text": [
      "Attached metadata before: dict_keys([])\n",
      "Attached metadata after: dict_keys(['core.bib'])\n",
      "{'name': 'Title for my container', '@context': 'https://w3id.org/ro/crate/1.1/context', '@type': 'Dataset', 'abstract': 'This is my first Metador-compliant container', 'author': [{'@id': AnyHttpUrl('https://orcid.org/0000-0002-1825-0097', ), 'name': 'Josiah Carberry', '@context': 'https://w3id.org/ro/crate/1.1/context', '@type': 'Person', 'givenName': 'Josiah', 'familyName': 'Carberry'}], 'dateCreated': datetime.datetime(2023, 2, 8, 11, 14, 3, 730201), 'hasPart': set(), 'creator': {'@id': AnyHttpUrl('https://orcid.org/0000-0002-1825-0097', ), 'name': 'Josiah Carberry', '@context': 'https://w3id.org/ro/crate/1.1/context', '@type': 'Person', 'givenName': 'Josiah', 'familyName': 'Carberry'}}\n",
      "Got back what we put in: True\n",
      "Got back a BibMeta object: True\n"
     ]
    }
   ],
   "source": [
    "with MetadorContainer(CONTAINER_NAME, \"a\") as mc:\n",
    "    print(\"Attached metadata before:\", mc[\"/\"].meta.keys())  # <- empty set\n",
    "\n",
    "    mc[\"/\"].meta[\"core.bib\"] = my_bibmeta  # set the metadata\n",
    "\n",
    "    print(\"Attached metadata after:\", mc[\"/\"].meta.keys())  # <- includes \"core.bib\" now\n",
    "    \n",
    "    # retrieve the metadata again and sanity-check:\n",
    "    retrieved = mc[\"/\"].meta[\"core.bib\"]\n",
    "    print(retrieved.dict())\n",
    "    print(\"Got back what we put in:\", my_bibmeta == retrieved)\n",
    "    print(\"Got back a BibMeta object:\", isinstance(retrieved, BibMeta))"
   ]
  },
  {
   "cell_type": "markdown",
   "id": "cf285eec",
   "metadata": {},
   "source": [
    "<div class=\"alert alert-block alert-info\">\n",
    "    <b>NOTE:</b> All general metadata about the whole container and its contents should be attached directly to the container root group (i.e., path <tt>\"/\"</tt>).\n",
    "</div>"
   ]
  },
  {
   "cell_type": "markdown",
   "id": "6f3290b2",
   "metadata": {},
   "source": [
    "### We Need More Data: Embedding Files in a MetadorContainer\n",
    "\n",
    "Even though Metador is based on HDF5, you might still want to (and in fact should!) store **all** files that are relevant for your dataset inside the container, even if the file contents are not a multidimensional numerical table. A `MetadorContainer` thus can also be seen as a more powerful substitute for simply archiving your project directory into a ZIP file and should contain everything that is helpful to other researchers to understand and work with your data.\n",
    "\n",
    "<div class=\"alert alert-block alert-info\">\n",
    "    <b>High-level Guideline for Container Creation:</b>\n",
    "    <ul><li>\n",
    "    Embed metadata in a container using the <tt>.meta</tt> interface and Metador schemas whenever possible\n",
    "    </li><li>\n",
    "    Store numerical data as <tt>numpy.ndarray</tt>s (i.e. as usual with <tt>h5py</tt>)\n",
    "    and add suitable metadata, e.g. using the <tt>core.table</tt> schema\n",
    "    </li><li>\n",
    "    Embed any other data (or metadata where no Metador schemas exist yet) as raw bytes\n",
    "    and add metadata compatible with the <tt>core.file</tt> schema\n",
    "    </li></ul>\n",
    "</div>\n",
    "\n",
    "We will now demonstrate how to embed files for a very common use-case - images. Images can be scientific data themselves, be a visualization of scientific data or simply provide a thumbnail, so it is very likely that you will want to include some in your container.\n",
    "\n",
    "#### Getting an Image File\n",
    "\n",
    "In practice, you will probably have some images stored on your computer that you would like to embed.\n",
    "For demonstration purposes, we will simply grab an image file from the internet and prepare all the information that we will need. As an exercise, feel free to adapt the following code for one of your images."
   ]
  },
  {
   "cell_type": "code",
   "execution_count": 15,
   "id": "18b28698",
   "metadata": {},
   "outputs": [
    {
     "name": "stdout",
     "output_type": "stream",
     "text": [
      "python-logo.png sha256: a92254c92269252313148acd7c3a8d595fa6cc8921ec28b2ee0f5c75f84297c3\n"
     ]
    },
    {
     "data": {
      "image/png": "[encoded data removed]",
      "text/plain": [
       "<IPython.core.display.Image object>"
      ]
     },
     "metadata": {},
     "output_type": "display_data"
    }
   ],
   "source": [
    "# download an image from the internet:\n",
    "IMG_NAME = \"python-logo.png\"\n",
    "img_file: bytes = urlopen(f\"https://www.python.org/static/img/{IMG_NAME}\").read()\n",
    "\n",
    "# we will need these values to construct the metadata:\n",
    "img_w, img_h = 290, 82  # <- size in pixels\n",
    "img_mime = \"image/png\"  # <- MIME type\n",
    "img_sha256 = hashlib.sha256(img_file).hexdigest()  # <- sha256 hashsum\n",
    "\n",
    "# look at our image:\n",
    "print(IMG_NAME, \"sha256:\", img_sha256)\n",
    "jupyter.display(jupyter.Image(data=img_file))"
   ]
  },
  {
   "cell_type": "markdown",
   "id": "3983c7d4",
   "metadata": {},
   "source": [
    "#### Constructing the Metadata\n",
    "\n",
    "Now we are ready to construct the metadata object for the image gathering all the pieces of information:"
   ]
  },
  {
   "cell_type": "code",
   "execution_count": 16,
   "id": "43f02d47",
   "metadata": {},
   "outputs": [
    {
     "name": "stdout",
     "output_type": "stream",
     "text": [
      "'@context': https://w3id.org/ro/crate/1.1/context\n",
      "'@type': File\n",
      "contentSize: 10102\n",
      "encodingFormat: image/png\n",
      "filename: python-logo.png\n",
      "height:\n",
      "  '@context': https://schema.org\n",
      "  '@type': QuantitativeValue\n",
      "  unitText: px\n",
      "  value: 82\n",
      "sha256: a92254c92269252313148acd7c3a8d595fa6cc8921ec28b2ee0f5c75f84297c3\n",
      "width:\n",
      "  '@context': https://schema.org\n",
      "  '@type': QuantitativeValue\n",
      "  unitText: px\n",
      "  value: 290\n",
      "\n"
     ]
    }
   ],
   "source": [
    "# get the default basic metadata schema for image files\n",
    "ImageFileMeta = schemas[\"core.imagefile\"]\n",
    "\n",
    "# prepare the metadata\n",
    "img_meta = ImageFileMeta(\n",
    "    filename=IMG_NAME,  # preserve the original filename (we'll rename it in the container)\n",
    "    \n",
    "    # following is required for all files:\n",
    "    contentSize=len(img_file),\n",
    "    encodingFormat=img_mime,\n",
    "    sha256=img_sha256,\n",
    "\n",
    "    # following is required for all images:\n",
    "    width=img_w,\n",
    "    height=img_h,\n",
    "    )\n",
    "\n",
    "print(img_meta.yaml())  # look at what the schema made out of it"
   ]
  },
  {
   "cell_type": "markdown",
   "id": "5bedc137",
   "metadata": {},
   "source": [
    "#### Interlude: Some Notes on Metadata Serialization and Parsing\n",
    "\n",
    "By now, you have seen all three ways of serializing a metadata object:\n",
    "\n",
    "* `.dict()`, returns a plain Python `dict` containing the metadata\n",
    "* `.json()`, returns a string with a valid JSON encoding of the metadata\n",
    "* `.yaml()`, returns a string with a valid YAML encoding of the metadata\n",
    "\n",
    "When you `print` a metadata object, you will see a pretty-printed `json` serialization.\n",
    "\n",
    "You never have to use the serialization functions explicitly when interfacing with a `MetadorContainer`, but they are helpful for inspecting or extracting metadata stored in a container, i.e. to print it (as we do here) or save a copy of the metadata in a separate file.\n",
    "These are not Metador-specific features, but are provided by the [pydantic](https://pydantic-docs.helpmanual.io/usage/models/) library which is the foundation for all Metador schemas. Once you need to write your own schemas, you might want to familiarize yourself with this library.\n",
    "\n",
    "Furthermore, observe what happened to the simple `width` and `height` values that we provided when constructing the metadata object:\n",
    "\n",
    "* the values were parsed into objects representing schema.org-compliant `QuantitativeValue`\n",
    "* the values were enriched with the information that they denote pixels (`px`)\n",
    "\n",
    "Such inference is possible in situations when there is a unique correct unit expected by the used schema for some attribute, as we have in this case. This demonstrates how **Metador tries to simplify creation of rich metadata** whenever it can infer some piece of knowledge encoded in the used schema.\n",
    "\n",
    "Now see what happens if we try to assign a value with a wrong unit:"
   ]
  },
  {
   "cell_type": "code",
   "execution_count": 17,
   "id": "1a687711",
   "metadata": {},
   "outputs": [
    {
     "name": "stdout",
     "output_type": "stream",
     "text": [
      "2 validation errors for ImageFileMeta\n",
      "width -> __root__ -> 0\n",
      "  value is not a valid integer (type=type_error.integer)\n",
      "width -> __root__ -> 0\n",
      "  value is not a valid float (type=type_error.float)\n"
     ]
    }
   ],
   "source": [
    "try:\n",
    "    img_meta.width = \"42 meters\"\n",
    "except pydantic.ValidationError as e:\n",
    "    print(e)"
   ]
  },
  {
   "cell_type": "markdown",
   "id": "e76fe1e3",
   "metadata": {},
   "source": [
    "This demonstrates how **Metador tries to help the user avoiding mistakes** whenever it can detect them, to ensure that containers have metadata which is as correct and as complete as possible.\n",
    "After this little interlude, let us proceed and finally put the image file and its prepared metadata into our container:"
   ]
  },
  {
   "cell_type": "code",
   "execution_count": 18,
   "id": "edeaef5f",
   "metadata": {},
   "outputs": [],
   "source": [
    "import numpy as np\n",
    "\n",
    "# put image into the container\n",
    "with MetadorContainer(CONTAINER_NAME, \"a\") as mc:\n",
    "    # embed image in the container\n",
    "    #\n",
    "    # NOTE: raw bytes embedded into HDF5 must be wrapped in np.void, see:\n",
    "    # https://docs.h5py.org/en/latest/strings.html#how-to-store-raw-binary-data\n",
    "    mc[\"/images/some_image\"] = np.void(img_file) \n",
    "    \n",
    "    # attach image file metadata\n",
    "    mc[\"/images/some_image\"].meta[\"core.imagefile\"] = img_meta"
   ]
  },
  {
   "cell_type": "markdown",
   "id": "51552deb",
   "metadata": {},
   "source": [
    "<div class=\"alert alert-block alert-info\">\n",
    "    <b>NOTE:</b> You might wonder now: is creating metadata always so cumbersome? No, you will usually not construct metadata for each file like this, we only did this for didactic purposes in order to demonstrate the validation and normalization capabilities built into schemas. <b>You usually will use a harvester pipeline to assemble metadata</b>, and might want to write harvesters for new file types yourself. <b>Harvesters will be introduced in a later tutorial</b>.\n",
    "</div>\n",
    "\n",
    "\n",
    "### Finding Metadata: Schema Inheritance and the Table of Contents\n",
    "\n",
    "By now, you have seen that you can attach metadata to groups and datasets very much like with the HDF5-native `.attrs`, only that the `.meta` interface is based on schema plugins that provide additional valuable features for complex scientific metadata needs, such as validation and semantic enrichment. In this section, we will look at the remaining features that `MetadorContainer` provides.\n",
    "\n",
    "#### Schema Inheritance\n",
    "\n",
    "As **Metador encourages reuse**, it supports **schema inheritance**, i.e. subtyping. A schema plugin can be a specialization of a different, more general schema that we call the **parent schema**. Conversely, each object stored for a more specialized schema can be interpreted as an object of the parent schema, ignoring \"extra stuff\" that make the child schema for specific.\n",
    "\n",
    "In the previous section, we recommended to attach to each embedded file an object compatible with the `core.file` schema, while in the example we embedded an image attaching metadata based on the `core.imagefile` schema. This works because the `core.imagefile` schema is a specialization, i.e. a child schema based on `core.file`. Let us now understand what exactly this entails:"
   ]
  },
  {
   "cell_type": "code",
   "execution_count": 19,
   "id": "425e42a8",
   "metadata": {},
   "outputs": [
    {
     "name": "stdout",
     "output_type": "stream",
     "text": [
      "['core.imagefile']\n",
      "Has core.imagefile metadata: True\n",
      "Has core.file metadata: True\n",
      "Type of image_meta: <class 'metador_core.schema.common.ImageFileMeta'> (core.imagefile 0.1.0)\n",
      "Type of file_meta: <class 'metador_core.schema.common.rocrate.FileMeta'> (core.file 0.1.0)\n",
      "file_meta is an instance of ImageFileMeta: False\n",
      "image_meta is an instance of FileMeta: True\n"
     ]
    }
   ],
   "source": [
    "FileMeta = schemas.get(\"core.file\", (0,1,0))\n",
    "\n",
    "with MetadorContainer(CONTAINER_NAME, \"r\") as mc:\n",
    "    img = mc[\"/images/some_image\"]  # get node of the embedded image\n",
    "    \n",
    "    # list attached metadata\n",
    "    print(list(img.meta.keys()))  # only lists the schemas as-added!\n",
    "    \n",
    "    print(\"Has core.imagefile metadata:\", \"core.imagefile\" in img.meta)  # as expected\n",
    "    image_meta = img.meta[\"core.imagefile\"]\n",
    "        \n",
    "    print(\"Has core.file metadata:\", \"core.file\" in img.meta)  # surprise!\n",
    "    file_meta = img.meta[\"core.file\"]  # any idea what happens now?\n",
    "    \n",
    "    # Let's figure it out:\n",
    "    print(\"Type of image_meta:\", repr(type(image_meta)))\n",
    "    print(\"Type of file_meta:\", repr(type(file_meta)))\n",
    "    print(\"file_meta is an instance of ImageFileMeta:\", isinstance(file_meta, ImageFileMeta))\n",
    "    print(\"image_meta is an instance of FileMeta:\", isinstance(image_meta, FileMeta))"
   ]
  },
  {
   "cell_type": "markdown",
   "id": "a11af0f1",
   "metadata": {},
   "source": [
    "If you are familiar with class inheritance in object-oriented programming, the outputs are not surprising, as this is exactly what is happening here. We will not go into technical details about Metador schema inheritance, but give a brief example why this is a very useful feature to have in the context of schemas.\n",
    "\n",
    "Imagine that you work with a very niche image file format `.niche` and want to embed such a file in a container. As a progressively thinking scientist who cares about FAIRness of their data, you want to re-use existing schemas and standards. Therefore, you design the schema `niche-imagefile` for your niche format as a specialization of the `core.imagefile` (the one we used above), with some extra properties about the niche encoding of your image data that you want to store alongside the image.\n",
    "\n",
    "Unfortunately, other researchers who might get a copy of your container will not have your `niche-imagefile` schema available. Luckily, they do have the schemas `core.file` and `core.imagefile`. As both schemas are \"ancestor\" schemas of your schema, the researchers still can access general information about your image, such as `width` and `height`, by requesting `core.imagefile` metadata. If they care about specifics of your image, they might later consider installing your schema plugin to access all of the information.\n",
    "\n",
    "But how do they even know that your `.niche` file, in fact, is a well-described image file at all?\n",
    "\n",
    "#### Table of Contents\n",
    "\n",
    "The container **table of contents** to the rescue! Its main feature is the ability to query available metadata in the container. When exploring an unknown container, we might not even know what we want to look at yet. The TOC can list all schemas that are available in the container, to give you an idea what you can query for:"
   ]
  },
  {
   "cell_type": "code",
   "execution_count": 20,
   "id": "75eccc53",
   "metadata": {
    "scrolled": true
   },
   "outputs": [
    {
     "name": "stdout",
     "output_type": "stream",
     "text": [
      "Schemas available in the container and Python package+version providing it:\n",
      "core.imagefile (0, 1, 0) : metador-core (0, 0, 1)\n",
      "core.bib (0, 1, 0) : metador-core (0, 0, 1)\n"
     ]
    }
   ],
   "source": [
    "with MetadorContainer(CONTAINER_NAME, \"r\") as mc:\n",
    "    \n",
    "    print(\"Schemas available in the container and Python package+version providing it:\")\n",
    "    \n",
    "    for schema in mc.metador.schemas:\n",
    "        # The provider package is the one that was used when creating the container,\n",
    "        # so in general it might be different from the one you have installed!\n",
    "        pkg = mc.metador.schemas.provider(schema)\n",
    "        print(schema.name, schema.version,  \":\", pkg.name, pkg.version)"
   ]
  },
  {
   "cell_type": "markdown",
   "id": "0b97d849",
   "metadata": {},
   "source": [
    "Our container has actual metadata objects of types `\"core.bib\"` and `\"core.imagefile\"`.\n",
    "By now, you can probably guess that the other two listed schemas are respective parent schemas.\n",
    "So even if we did not know anything about this container before, now we know that we e.g. can ask for files:"
   ]
  },
  {
   "cell_type": "code",
   "execution_count": 21,
   "id": "1d876381",
   "metadata": {},
   "outputs": [
    {
     "name": "stdout",
     "output_type": "stream",
     "text": [
      "/images/some_image : a92254c92269252313148acd7c3a8d595fa6cc8921ec28b2ee0f5c75f84297c3\n"
     ]
    }
   ],
   "source": [
    "with MetadorContainer(CONTAINER_NAME, \"r\") as mc:\n",
    "    \n",
    "    # query all nodes in the container for \"core.file\"-compatible metadata\n",
    "    for node in mc.metador.query(\"core.file\"):\n",
    "        metadata = node.meta.get(\"core.file\")\n",
    "        # print the path of the embedded file and its hashsum\n",
    "        # (core.file has hashsum as mandatory attribute - all files must have it!)\n",
    "        print(node.name, \":\", metadata.sha256) "
   ]
  },
  {
   "cell_type": "markdown",
   "id": "99abf7f3",
   "metadata": {},
   "source": [
    "So we have successfully created a container, added basic bibilographic metadata to it, embedded an image file and also attached some metadata about it to help other people finding it. This concludes our first lesson giving you a first taste of Metador. We hope that you enjoyed it and we will see you again in the next lesson!\n",
    "\n",
    "### TL;DR: Summary\n",
    "\n",
    "#### Opening and Closing Containers\n",
    "\n",
    "* Metador containers are essentially \"special\" HDF5 files\n",
    "* Use the Python `with` syntax to avoid technical problems\n",
    "* Wrap your `h5py.File` objects with `MetadorContainer` and use only the wrapped object\n",
    "\n",
    "#### Attaching and Accessing Metadata\n",
    "\n",
    "* Do not use `.attrs` for storing metadata, unless you have specific reasons (e.g. compliance to another standard)\n",
    "* Do use `.meta` (provided by `MetadorContainer`) to attach metadata to container nodes\n",
    "* Metador metadata is always validated against a metadata schema\n",
    "* Usable metadata schemas (special Python classes) are provided by the Metador plugin system\n",
    "* Metadata is stored and retrieved through objects that are instances of these schemas\n",
    "* You can retrieve a more metadata object as any of its parent schemas (schema inheritance)\n",
    "\n",
    "#### Inspecting Metadata Schemas\n",
    "\n",
    "* Use `.Fields` on a schema that you use to get information about expected types and nested schemas\n",
    "* Through `SomeSchema.Fields.fieldX.schemas` you can access nested schemas that might not be exposed as separate plugins\n",
    "* Always use this mechanism instead of trying to `import` these inner schemas\n",
    "\n",
    "#### Using Metadata Standards\n",
    "\n",
    "* The default metadata schemas are designed for compliance with **schema.org** and **ROCrate**\n",
    "* All additional plugin schemas should also strive to reuse existing schemas and semantic standards\n",
    "* For general metadata, try to follow RO-Crate recommentations (e.g. that researchers should be referenced by their ORCID)\n",
    "* General metadata about the whole container should be attached to the container root group\n",
    "\n",
    "#### Searching for Metadata\n",
    "\n",
    "* The container table of contents is accessible with `.metador` and can be used to find interesting (meta)data\n",
    "* Use `.metador.schemas` to see all available metadata types in the container\n",
    "* Use `.metador.query(...)` to iterate through all nodes that have a certain kind of metadata\n",
    "* The `.metador.query(...)` operation also supports schema inheritance"
   ]
  }
 ],
 "metadata": {
  "kernelspec": {
   "display_name": "Python 3 (ipykernel)",
   "language": "python",
   "name": "python3"
  },
  "language_info": {
   "codemirror_mode": {
    "name": "ipython",
    "version": 3
   },
   "file_extension": ".py",
   "mimetype": "text/x-python",
   "name": "python",
   "nbconvert_exporter": "python",
   "pygments_lexer": "ipython3",
   "version": "3.8.17"
  }
 },
 "nbformat": 4,
 "nbformat_minor": 5
}
